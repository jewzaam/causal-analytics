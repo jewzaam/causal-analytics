{
 "cells": [
  {
   "cell_type": "code",
   "execution_count": null,
   "id": "3828e8ef-d611-45b6-b964-47983b53b341",
   "metadata": {},
   "outputs": [],
   "source": [
    "# https://github.com/networkx/networkx/issues/7101\n",
    "import warnings\n",
    "\n",
    "with warnings.catch_warnings():\n",
    "    warnings.filterwarnings(\"ignore\", message=\"networkx backend defined more than once: nx-loopback\")\n",
    "    import networkx as nx"
   ]
  },
  {
   "cell_type": "code",
   "execution_count": 1,
   "id": "3b2ced36",
   "metadata": {},
   "outputs": [],
   "source": [
    "#!pip install install dowhy"
   ]
  },
  {
   "cell_type": "code",
   "execution_count": 2,
   "id": "e407774c",
   "metadata": {},
   "outputs": [
    {
     "name": "stderr",
     "output_type": "stream",
     "text": [
      "/Users/jbanerje/opt/anaconda3/lib/python3.9/site-packages/pandas/core/computation/expressions.py:21: UserWarning: Pandas requires version '2.8.4' or newer of 'numexpr' (version '2.8.1' currently installed).\n",
      "  from pandas.core.computation.check import NUMEXPR_INSTALLED\n",
      "/Users/jbanerje/opt/anaconda3/lib/python3.9/site-packages/pandas/core/arrays/masked.py:60: UserWarning: Pandas requires version '1.3.6' or newer of 'bottleneck' (version '1.3.4' currently installed).\n",
      "  from pandas.core import (\n"
     ]
    }
   ],
   "source": [
    "import numpy as np\n",
    "import matplotlib.pyplot as plt\n",
    "\n",
    "from dowhy import CausalModel\n",
    "import dowhy.datasets\n",
    "from IPython.display import Image, display\n",
    "import warnings\n",
    "warnings.filterwarnings('ignore')"
   ]
  },
  {
   "cell_type": "code",
   "execution_count": 3,
   "id": "94422f8a",
   "metadata": {},
   "outputs": [],
   "source": [
    "data = dowhy.datasets.linear_dataset(beta=10,\n",
    "        num_common_causes=5,\n",
    "        num_instruments = 2,\n",
    "        num_effect_modifiers=1,\n",
    "        num_samples=5000,\n",
    "        treatment_is_binary=True,\n",
    "        stddev_treatment_noise=10,\n",
    "        num_discrete_common_causes=1)\n",
    "df = data[\"df\"]"
   ]
  },
  {
   "cell_type": "code",
   "execution_count": 4,
   "id": "0a9640ec",
   "metadata": {},
   "outputs": [
    {
     "name": "stdout",
     "output_type": "stream",
     "text": [
      "treatment_name -> ['v0']\n",
      "outcome_name -> y\n",
      "common_causes_names -> ['W0', 'W1', 'W2', 'W3', 'W4']\n",
      "instrument_names -> ['Z0', 'Z1']\n",
      "effect_modifier_names -> ['X0']\n",
      "frontdoor_variables_names -> []\n",
      "dot_graph -> digraph {v0->y;W0-> v0; W1-> v0; W2-> v0; W3-> v0; W4-> v0;Z0-> v0; Z1-> v0;W0-> y; W1-> y; W2-> y; W3-> y; W4-> y;X0-> y;}\n",
      "gml_graph -> graph[directed 1node[ id \"y\" label \"y\"]node[ id \"W0\" label \"W0\"] node[ id \"W1\" label \"W1\"] node[ id \"W2\" label \"W2\"] node[ id \"W3\" label \"W3\"] node[ id \"W4\" label \"W4\"]node[ id \"Z0\" label \"Z0\"] node[ id \"Z1\" label \"Z1\"]node[ id \"v0\" label \"v0\"]edge[source \"v0\" target \"y\"]edge[ source \"W0\" target \"v0\"] edge[ source \"W1\" target \"v0\"] edge[ source \"W2\" target \"v0\"] edge[ source \"W3\" target \"v0\"] edge[ source \"W4\" target \"v0\"]edge[ source \"Z0\" target \"v0\"] edge[ source \"Z1\" target \"v0\"]edge[ source \"W0\" target \"y\"] edge[ source \"W1\" target \"y\"] edge[ source \"W2\" target \"y\"] edge[ source \"W3\" target \"y\"] edge[ source \"W4\" target \"y\"]node[ id \"X0\" label \"X0\"] edge[ source \"X0\" target \"y\"]]\n",
      "ate -> 9.549191307401383\n"
     ]
    }
   ],
   "source": [
    "for key in data:\n",
    "    if key != 'df':\n",
    "     print(key, \"->\", data[key])"
   ]
  },
  {
   "cell_type": "code",
   "execution_count": 5,
   "id": "0ddac39f",
   "metadata": {},
   "outputs": [],
   "source": [
    "# Without graph\n",
    "model= CausalModel(\n",
    "        data=df,\n",
    "        treatment=data[\"treatment_name\"],\n",
    "        outcome=data[\"outcome_name\"],\n",
    "        common_causes=data[\"common_causes_names\"],\n",
    "        effect_modifiers=data[\"effect_modifier_names\"])\n"
   ]
  },
  {
   "cell_type": "code",
   "execution_count": 6,
   "id": "aa942c3b",
   "metadata": {},
   "outputs": [
    {
     "data": {
      "text/plain": [
       "\"Model to find the causal effect of treatment ['v0'] on outcome ['y']\""
      ]
     },
     "execution_count": 6,
     "metadata": {},
     "output_type": "execute_result"
    }
   ],
   "source": [
    "model.summary()"
   ]
  },
  {
   "cell_type": "code",
   "execution_count": 7,
   "id": "1e2bb55f",
   "metadata": {},
   "outputs": [
    {
     "data": {
      "image/png": "[encoded data removed]",
      "text/latex": [
       "$\\displaystyle \\left[ \\right]$"
      ],
      "text/plain": [
       "[]"
      ]
     },
     "execution_count": 7,
     "metadata": {},
     "output_type": "execute_result"
    }
   ],
   "source": [
    "#model.get_common_causes()\n",
    "#model.get_effect_modifiers()\n",
    "model.get_instruments()\n"
   ]
  },
  {
   "cell_type": "code",
   "execution_count": 8,
   "id": "3b0d8cdc",
   "metadata": {},
   "outputs": [
    {
     "data": {
      "text/html": [
       "<div>\n",
       "<style scoped>\n",
       "    .dataframe tbody tr th:only-of-type {\n",
       "        vertical-align: middle;\n",
       "    }\n",
       "\n",
       "    .dataframe tbody tr th {\n",
       "        vertical-align: top;\n",
       "    }\n",
       "\n",
       "    .dataframe thead th {\n",
       "        text-align: right;\n",
       "    }\n",
       "</style>\n",
       "<table border=\"1\" class=\"dataframe\">\n",
       "  <thead>\n",
       "    <tr style=\"text-align: right;\">\n",
       "      <th></th>\n",
       "      <th>X0</th>\n",
       "      <th>Z0</th>\n",
       "      <th>Z1</th>\n",
       "      <th>W0</th>\n",
       "      <th>W1</th>\n",
       "      <th>W2</th>\n",
       "      <th>W3</th>\n",
       "      <th>W4</th>\n",
       "      <th>v0</th>\n",
       "      <th>y</th>\n",
       "    </tr>\n",
       "  </thead>\n",
       "  <tbody>\n",
       "    <tr>\n",
       "      <th>0</th>\n",
       "      <td>1.127164</td>\n",
       "      <td>1.0</td>\n",
       "      <td>0.106817</td>\n",
       "      <td>-0.468406</td>\n",
       "      <td>-0.900753</td>\n",
       "      <td>0.226735</td>\n",
       "      <td>1.863984</td>\n",
       "      <td>2</td>\n",
       "      <td>True</td>\n",
       "      <td>21.562107</td>\n",
       "    </tr>\n",
       "    <tr>\n",
       "      <th>1</th>\n",
       "      <td>-0.352279</td>\n",
       "      <td>0.0</td>\n",
       "      <td>0.821900</td>\n",
       "      <td>-0.408224</td>\n",
       "      <td>-2.151098</td>\n",
       "      <td>-0.501759</td>\n",
       "      <td>1.221351</td>\n",
       "      <td>1</td>\n",
       "      <td>True</td>\n",
       "      <td>11.286231</td>\n",
       "    </tr>\n",
       "    <tr>\n",
       "      <th>2</th>\n",
       "      <td>0.084297</td>\n",
       "      <td>1.0</td>\n",
       "      <td>0.631240</td>\n",
       "      <td>-0.137716</td>\n",
       "      <td>-0.766173</td>\n",
       "      <td>2.532879</td>\n",
       "      <td>-0.110311</td>\n",
       "      <td>0</td>\n",
       "      <td>True</td>\n",
       "      <td>13.216467</td>\n",
       "    </tr>\n",
       "    <tr>\n",
       "      <th>3</th>\n",
       "      <td>-0.533467</td>\n",
       "      <td>0.0</td>\n",
       "      <td>0.834208</td>\n",
       "      <td>-0.812254</td>\n",
       "      <td>0.823549</td>\n",
       "      <td>0.628593</td>\n",
       "      <td>-0.252159</td>\n",
       "      <td>2</td>\n",
       "      <td>True</td>\n",
       "      <td>8.291699</td>\n",
       "    </tr>\n",
       "    <tr>\n",
       "      <th>4</th>\n",
       "      <td>0.832905</td>\n",
       "      <td>1.0</td>\n",
       "      <td>0.576228</td>\n",
       "      <td>0.535954</td>\n",
       "      <td>-1.673508</td>\n",
       "      <td>-0.347170</td>\n",
       "      <td>0.886444</td>\n",
       "      <td>3</td>\n",
       "      <td>True</td>\n",
       "      <td>18.687008</td>\n",
       "    </tr>\n",
       "    <tr>\n",
       "      <th>...</th>\n",
       "      <td>...</td>\n",
       "      <td>...</td>\n",
       "      <td>...</td>\n",
       "      <td>...</td>\n",
       "      <td>...</td>\n",
       "      <td>...</td>\n",
       "      <td>...</td>\n",
       "      <td>...</td>\n",
       "      <td>...</td>\n",
       "      <td>...</td>\n",
       "    </tr>\n",
       "    <tr>\n",
       "      <th>4995</th>\n",
       "      <td>0.200477</td>\n",
       "      <td>0.0</td>\n",
       "      <td>0.920552</td>\n",
       "      <td>-0.504117</td>\n",
       "      <td>0.329307</td>\n",
       "      <td>-0.949981</td>\n",
       "      <td>1.003514</td>\n",
       "      <td>1</td>\n",
       "      <td>True</td>\n",
       "      <td>13.009347</td>\n",
       "    </tr>\n",
       "    <tr>\n",
       "      <th>4996</th>\n",
       "      <td>-0.309815</td>\n",
       "      <td>1.0</td>\n",
       "      <td>0.134453</td>\n",
       "      <td>-1.201658</td>\n",
       "      <td>0.076501</td>\n",
       "      <td>1.584163</td>\n",
       "      <td>0.439757</td>\n",
       "      <td>2</td>\n",
       "      <td>True</td>\n",
       "      <td>11.861137</td>\n",
       "    </tr>\n",
       "    <tr>\n",
       "      <th>4997</th>\n",
       "      <td>-0.251053</td>\n",
       "      <td>1.0</td>\n",
       "      <td>0.332448</td>\n",
       "      <td>1.215677</td>\n",
       "      <td>-0.354864</td>\n",
       "      <td>-1.146162</td>\n",
       "      <td>-1.429779</td>\n",
       "      <td>3</td>\n",
       "      <td>True</td>\n",
       "      <td>6.953408</td>\n",
       "    </tr>\n",
       "    <tr>\n",
       "      <th>4998</th>\n",
       "      <td>1.112599</td>\n",
       "      <td>1.0</td>\n",
       "      <td>0.007408</td>\n",
       "      <td>-2.127807</td>\n",
       "      <td>1.110257</td>\n",
       "      <td>3.106330</td>\n",
       "      <td>1.343439</td>\n",
       "      <td>2</td>\n",
       "      <td>True</td>\n",
       "      <td>20.419413</td>\n",
       "    </tr>\n",
       "    <tr>\n",
       "      <th>4999</th>\n",
       "      <td>-0.450347</td>\n",
       "      <td>1.0</td>\n",
       "      <td>0.538635</td>\n",
       "      <td>0.030167</td>\n",
       "      <td>1.581483</td>\n",
       "      <td>-0.799239</td>\n",
       "      <td>1.241250</td>\n",
       "      <td>2</td>\n",
       "      <td>True</td>\n",
       "      <td>17.206001</td>\n",
       "    </tr>\n",
       "  </tbody>\n",
       "</table>\n",
       "<p>5000 rows × 10 columns</p>\n",
       "</div>"
      ],
      "text/plain": [
       "            X0   Z0        Z1        W0        W1        W2        W3 W4  \\\n",
       "0     1.127164  1.0  0.106817 -0.468406 -0.900753  0.226735  1.863984  2   \n",
       "1    -0.352279  0.0  0.821900 -0.408224 -2.151098 -0.501759  1.221351  1   \n",
       "2     0.084297  1.0  0.631240 -0.137716 -0.766173  2.532879 -0.110311  0   \n",
       "3    -0.533467  0.0  0.834208 -0.812254  0.823549  0.628593 -0.252159  2   \n",
       "4     0.832905  1.0  0.576228  0.535954 -1.673508 -0.347170  0.886444  3   \n",
       "...        ...  ...       ...       ...       ...       ...       ... ..   \n",
       "4995  0.200477  0.0  0.920552 -0.504117  0.329307 -0.949981  1.003514  1   \n",
       "4996 -0.309815  1.0  0.134453 -1.201658  0.076501  1.584163  0.439757  2   \n",
       "4997 -0.251053  1.0  0.332448  1.215677 -0.354864 -1.146162 -1.429779  3   \n",
       "4998  1.112599  1.0  0.007408 -2.127807  1.110257  3.106330  1.343439  2   \n",
       "4999 -0.450347  1.0  0.538635  0.030167  1.581483 -0.799239  1.241250  2   \n",
       "\n",
       "        v0          y  \n",
       "0     True  21.562107  \n",
       "1     True  11.286231  \n",
       "2     True  13.216467  \n",
       "3     True   8.291699  \n",
       "4     True  18.687008  \n",
       "...    ...        ...  \n",
       "4995  True  13.009347  \n",
       "4996  True  11.861137  \n",
       "4997  True   6.953408  \n",
       "4998  True  20.419413  \n",
       "4999  True  17.206001  \n",
       "\n",
       "[5000 rows x 10 columns]"
      ]
     },
     "execution_count": 8,
     "metadata": {},
     "output_type": "execute_result"
    }
   ],
   "source": [
    "df"
   ]
  },
  {
   "cell_type": "code",
   "execution_count": 9,
   "id": "1052b215",
   "metadata": {},
   "outputs": [
    {
     "data": {
      "image/png": "[encoded data removed]",
      "text/plain": [
       "<Figure size 576x432 with 1 Axes>"
      ]
     },
     "metadata": {},
     "output_type": "display_data"
    }
   ],
   "source": [
    "model.view_model()"
   ]
  },
  {
   "cell_type": "code",
   "execution_count": 10,
   "id": "8fc9b0c2",
   "metadata": {},
   "outputs": [],
   "source": [
    "#display(Image(filename=\"causal_model.png\"))"
   ]
  },
  {
   "cell_type": "code",
   "execution_count": null,
   "id": "a27bfecf",
   "metadata": {},
   "outputs": [],
   "source": []
  }
 ],
 "metadata": {
  "kernelspec": {
   "display_name": "Python 3 (ipykernel)",
   "language": "python",
   "name": "python3"
  },
  "language_info": {
   "codemirror_mode": {
    "name": "ipython",
    "version": 3
   },
   "file_extension": ".py",
   "mimetype": "text/x-python",
   "name": "python",
   "nbconvert_exporter": "python",
   "pygments_lexer": "ipython3",
   "version": "3.9.18"
  }
 },
 "nbformat": 4,
 "nbformat_minor": 5
}
