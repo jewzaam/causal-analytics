{
 "cells": [
  {
   "cell_type": "code",
   "execution_count": null,
   "id": "3828e8ef-d611-45b6-b964-47983b53b341",
   "metadata": {},
   "outputs": [],
   "source": [
    "# https://github.com/networkx/networkx/issues/7101\n",
    "import warnings\n",
    "\n",
    "with warnings.catch_warnings():\n",
    "    warnings.filterwarnings(\"ignore\", message=\"networkx backend defined more than once: nx-loopback\")\n",
    "    import networkx as nx"
   ]
  },
  {
   "cell_type": "code",
   "execution_count": 1,
   "id": "3b2ced36",
   "metadata": {},
   "outputs": [],
   "source": [
    "#!pip install install dowhy"
   ]
  },
  {
   "cell_type": "code",
   "execution_count": 2,
   "id": "95cb8e5d-caf0-492a-9ee7-b97779e26ea0",
   "metadata": {},
   "outputs": [],
   "source": [
    "# https://github.com/networkx/networkx/issues/7101\n",
    "import warnings\n",
    "\n",
    "with warnings.catch_warnings():\n",
    "    warnings.filterwarnings(\"ignore\", message=\"networkx backend defined more than once: nx-loopback\")\n",
    "    import networkx as nx"
   ]
  },
  {
   "cell_type": "code",
   "execution_count": 3,
   "id": "be5bb548",
   "metadata": {},
   "outputs": [],
   "source": [
    "import numpy as np\n",
    "import matplotlib.pyplot as plt\n",
    "\n",
    "from dowhy import CausalModel\n",
    "import dowhy.datasets\n",
    "from IPython.display import Image, display\n",
    "import warnings\n",
    "warnings.filterwarnings('ignore')"
   ]
  },
  {
   "cell_type": "code",
   "execution_count": 4,
   "id": "70585bf1",
   "metadata": {},
   "outputs": [],
   "source": [
    "data = dowhy.datasets.linear_dataset(beta=10,\n",
    "        num_common_causes=5,\n",
    "        num_instruments = 2,\n",
    "        num_effect_modifiers=1,\n",
    "        num_samples=5000,\n",
    "        treatment_is_binary=True,\n",
    "        stddev_treatment_noise=10,\n",
    "        num_discrete_common_causes=1)\n",
    "df = data[\"df\"]"
   ]
  },
  {
   "cell_type": "code",
   "execution_count": 5,
   "id": "8f004787",
   "metadata": {},
   "outputs": [],
   "source": [
    "# Without graph\n",
    "model= CausalModel(\n",
    "        data=df,\n",
    "        treatment=data[\"treatment_name\"],\n",
    "        outcome=data[\"outcome_name\"],\n",
    "        common_causes=data[\"common_causes_names\"],\n",
    "        effect_modifiers=data[\"effect_modifier_names\"])\n"
   ]
  },
  {
   "cell_type": "code",
   "execution_count": 6,
   "id": "7fa7f9f2",
   "metadata": {},
   "outputs": [
    {
     "data": {
      "text/plain": [
       "\"Model to find the causal effect of treatment ['v0'] on outcome ['y']\""
      ]
     },
     "execution_count": 6,
     "metadata": {},
     "output_type": "execute_result"
    }
   ],
   "source": [
    "model.summary()"
   ]
  },
  {
   "cell_type": "code",
   "execution_count": 7,
   "id": "aff139bf",
   "metadata": {},
   "outputs": [
    {
     "data": {
      "image/png": "[encoded data removed]",
      "text/latex": [
       "$\\displaystyle \\left[ \\right]$"
      ],
      "text/plain": [
       "[]"
      ]
     },
     "execution_count": 7,
     "metadata": {},
     "output_type": "execute_result"
    }
   ],
   "source": [
    "#model.get_common_causes()\n",
    "#model.get_effect_modifiers()\n",
    "model.get_instruments()\n"
   ]
  },
  {
   "cell_type": "code",
   "execution_count": 8,
   "id": "2caf45b1",
   "metadata": {},
   "outputs": [
    {
     "data": {
      "text/html": [
       "<div>\n",
       "<style scoped>\n",
       "    .dataframe tbody tr th:only-of-type {\n",
       "        vertical-align: middle;\n",
       "    }\n",
       "\n",
       "    .dataframe tbody tr th {\n",
       "        vertical-align: top;\n",
       "    }\n",
       "\n",
       "    .dataframe thead th {\n",
       "        text-align: right;\n",
       "    }\n",
       "</style>\n",
       "<table border=\"1\" class=\"dataframe\">\n",
       "  <thead>\n",
       "    <tr style=\"text-align: right;\">\n",
       "      <th></th>\n",
       "      <th>X0</th>\n",
       "      <th>Z0</th>\n",
       "      <th>Z1</th>\n",
       "      <th>W0</th>\n",
       "      <th>W1</th>\n",
       "      <th>W2</th>\n",
       "      <th>W3</th>\n",
       "      <th>W4</th>\n",
       "      <th>v0</th>\n",
       "      <th>y</th>\n",
       "    </tr>\n",
       "  </thead>\n",
       "  <tbody>\n",
       "    <tr>\n",
       "      <th>0</th>\n",
       "      <td>-0.163649</td>\n",
       "      <td>0.0</td>\n",
       "      <td>0.975227</td>\n",
       "      <td>1.660021</td>\n",
       "      <td>-0.842433</td>\n",
       "      <td>-0.280180</td>\n",
       "      <td>-1.464892</td>\n",
       "      <td>0</td>\n",
       "      <td>False</td>\n",
       "      <td>4.635415</td>\n",
       "    </tr>\n",
       "    <tr>\n",
       "      <th>1</th>\n",
       "      <td>-0.504401</td>\n",
       "      <td>0.0</td>\n",
       "      <td>0.893196</td>\n",
       "      <td>2.742412</td>\n",
       "      <td>0.961078</td>\n",
       "      <td>0.317135</td>\n",
       "      <td>0.766939</td>\n",
       "      <td>1</td>\n",
       "      <td>True</td>\n",
       "      <td>25.329099</td>\n",
       "    </tr>\n",
       "    <tr>\n",
       "      <th>2</th>\n",
       "      <td>1.664017</td>\n",
       "      <td>0.0</td>\n",
       "      <td>0.464240</td>\n",
       "      <td>0.312652</td>\n",
       "      <td>1.649981</td>\n",
       "      <td>-0.491467</td>\n",
       "      <td>-1.271055</td>\n",
       "      <td>0</td>\n",
       "      <td>True</td>\n",
       "      <td>20.342272</td>\n",
       "    </tr>\n",
       "    <tr>\n",
       "      <th>3</th>\n",
       "      <td>0.006554</td>\n",
       "      <td>0.0</td>\n",
       "      <td>0.743171</td>\n",
       "      <td>0.875394</td>\n",
       "      <td>0.259532</td>\n",
       "      <td>-0.967071</td>\n",
       "      <td>-0.703679</td>\n",
       "      <td>3</td>\n",
       "      <td>True</td>\n",
       "      <td>25.563680</td>\n",
       "    </tr>\n",
       "    <tr>\n",
       "      <th>4</th>\n",
       "      <td>1.908443</td>\n",
       "      <td>1.0</td>\n",
       "      <td>0.333391</td>\n",
       "      <td>-0.382802</td>\n",
       "      <td>0.512682</td>\n",
       "      <td>-0.611319</td>\n",
       "      <td>0.080225</td>\n",
       "      <td>3</td>\n",
       "      <td>True</td>\n",
       "      <td>32.197057</td>\n",
       "    </tr>\n",
       "    <tr>\n",
       "      <th>...</th>\n",
       "      <td>...</td>\n",
       "      <td>...</td>\n",
       "      <td>...</td>\n",
       "      <td>...</td>\n",
       "      <td>...</td>\n",
       "      <td>...</td>\n",
       "      <td>...</td>\n",
       "      <td>...</td>\n",
       "      <td>...</td>\n",
       "      <td>...</td>\n",
       "    </tr>\n",
       "    <tr>\n",
       "      <th>4995</th>\n",
       "      <td>2.286498</td>\n",
       "      <td>0.0</td>\n",
       "      <td>0.027170</td>\n",
       "      <td>1.814038</td>\n",
       "      <td>1.707134</td>\n",
       "      <td>0.338054</td>\n",
       "      <td>-0.618079</td>\n",
       "      <td>3</td>\n",
       "      <td>True</td>\n",
       "      <td>46.680916</td>\n",
       "    </tr>\n",
       "    <tr>\n",
       "      <th>4996</th>\n",
       "      <td>0.940758</td>\n",
       "      <td>1.0</td>\n",
       "      <td>0.036405</td>\n",
       "      <td>-1.030645</td>\n",
       "      <td>1.191022</td>\n",
       "      <td>0.729010</td>\n",
       "      <td>-0.003384</td>\n",
       "      <td>2</td>\n",
       "      <td>True</td>\n",
       "      <td>23.646768</td>\n",
       "    </tr>\n",
       "    <tr>\n",
       "      <th>4997</th>\n",
       "      <td>0.616309</td>\n",
       "      <td>0.0</td>\n",
       "      <td>0.315836</td>\n",
       "      <td>0.229301</td>\n",
       "      <td>1.301264</td>\n",
       "      <td>-1.314298</td>\n",
       "      <td>0.322508</td>\n",
       "      <td>2</td>\n",
       "      <td>True</td>\n",
       "      <td>21.980182</td>\n",
       "    </tr>\n",
       "    <tr>\n",
       "      <th>4998</th>\n",
       "      <td>0.892758</td>\n",
       "      <td>1.0</td>\n",
       "      <td>0.030111</td>\n",
       "      <td>-0.667486</td>\n",
       "      <td>0.364680</td>\n",
       "      <td>0.175239</td>\n",
       "      <td>-0.241924</td>\n",
       "      <td>3</td>\n",
       "      <td>True</td>\n",
       "      <td>27.285957</td>\n",
       "    </tr>\n",
       "    <tr>\n",
       "      <th>4999</th>\n",
       "      <td>1.270788</td>\n",
       "      <td>0.0</td>\n",
       "      <td>0.596199</td>\n",
       "      <td>0.831737</td>\n",
       "      <td>0.161730</td>\n",
       "      <td>0.026873</td>\n",
       "      <td>-0.411402</td>\n",
       "      <td>3</td>\n",
       "      <td>True</td>\n",
       "      <td>34.778514</td>\n",
       "    </tr>\n",
       "  </tbody>\n",
       "</table>\n",
       "<p>5000 rows × 10 columns</p>\n",
       "</div>"
      ],
      "text/plain": [
       "            X0   Z0        Z1        W0        W1        W2        W3 W4  \\\n",
       "0    -0.163649  0.0  0.975227  1.660021 -0.842433 -0.280180 -1.464892  0   \n",
       "1    -0.504401  0.0  0.893196  2.742412  0.961078  0.317135  0.766939  1   \n",
       "2     1.664017  0.0  0.464240  0.312652  1.649981 -0.491467 -1.271055  0   \n",
       "3     0.006554  0.0  0.743171  0.875394  0.259532 -0.967071 -0.703679  3   \n",
       "4     1.908443  1.0  0.333391 -0.382802  0.512682 -0.611319  0.080225  3   \n",
       "...        ...  ...       ...       ...       ...       ...       ... ..   \n",
       "4995  2.286498  0.0  0.027170  1.814038  1.707134  0.338054 -0.618079  3   \n",
       "4996  0.940758  1.0  0.036405 -1.030645  1.191022  0.729010 -0.003384  2   \n",
       "4997  0.616309  0.0  0.315836  0.229301  1.301264 -1.314298  0.322508  2   \n",
       "4998  0.892758  1.0  0.030111 -0.667486  0.364680  0.175239 -0.241924  3   \n",
       "4999  1.270788  0.0  0.596199  0.831737  0.161730  0.026873 -0.411402  3   \n",
       "\n",
       "         v0          y  \n",
       "0     False   4.635415  \n",
       "1      True  25.329099  \n",
       "2      True  20.342272  \n",
       "3      True  25.563680  \n",
       "4      True  32.197057  \n",
       "...     ...        ...  \n",
       "4995   True  46.680916  \n",
       "4996   True  23.646768  \n",
       "4997   True  21.980182  \n",
       "4998   True  27.285957  \n",
       "4999   True  34.778514  \n",
       "\n",
       "[5000 rows x 10 columns]"
      ]
     },
     "execution_count": 8,
     "metadata": {},
     "output_type": "execute_result"
    }
   ],
   "source": [
    "df"
   ]
  },
  {
   "cell_type": "code",
   "execution_count": 9,
   "id": "8c9d0b96",
   "metadata": {},
   "outputs": [
    {
     "data": {
      "image/png": "[encoded data removed]",
      "text/plain": [
       "<Figure size 800x600 with 1 Axes>"
      ]
     },
     "metadata": {},
     "output_type": "display_data"
    }
   ],
   "source": [
    "model.view_model()"
   ]
  },
  {
   "cell_type": "code",
   "execution_count": 10,
   "id": "51a3e7e9",
   "metadata": {},
   "outputs": [],
   "source": [
    "#display(Image(filename=\"causal_model.png\"))"
   ]
  },
  {
   "cell_type": "code",
   "execution_count": null,
   "id": "a27bfecf",
   "metadata": {},
   "outputs": [],
   "source": []
  }
 ],
 "metadata": {
  "kernelspec": {
   "display_name": "Python 3 (ipykernel)",
   "language": "python",
   "name": "python3"
  },
  "language_info": {
   "codemirror_mode": {
    "name": "ipython",
    "version": 3
   },
   "file_extension": ".py",
   "mimetype": "text/x-python",
   "name": "python",
   "nbconvert_exporter": "python",
   "pygments_lexer": "ipython3",
   "version": "3.9.18"
  }
 },
 "nbformat": 4,
 "nbformat_minor": 5
}
